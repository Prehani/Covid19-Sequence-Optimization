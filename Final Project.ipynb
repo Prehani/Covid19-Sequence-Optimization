{
 "cells": [
  {
   "cell_type": "markdown",
   "metadata": {},
   "source": [
    "### Load Sequence"
   ]
  },
  {
   "cell_type": "code",
   "execution_count": 33,
   "metadata": {},
   "outputs": [],
   "source": [
    "using FastaIO"
   ]
  },
  {
   "cell_type": "code",
   "execution_count": 39,
   "metadata": {},
   "outputs": [
    {
     "data": {
      "text/plain": [
       "\"NC_045512.2 Severe acute respiratory syndrome coronavirus 2 isolate Wuhan-Hu-1, complete genome\""
      ]
     },
     "execution_count": 39,
     "metadata": {},
     "output_type": "execute_result"
    }
   ],
   "source": [
    "# Read fasta file to get description and sequence\n",
    "fr = FastaReader(\"sars_cov_2_nc_045512.fasta\")\n",
    "name, seq = readentry(fr);"
   ]
  },
  {
   "cell_type": "markdown",
   "metadata": {},
   "source": [
    "### Kmer Generation"
   ]
  },
  {
   "cell_type": "code",
   "execution_count": 79,
   "metadata": {},
   "outputs": [],
   "source": [
    "# Use shorter substring to test kmer generation\n",
    "test = seq[1:20]\n",
    "kmer_array = []\n",
    "k = 4\n",
    "for i in 1:length(test)\n",
    "    if i <= (length(test) - (k-1))\n",
    "        push!(kmer_array, test[i:i+k-1])\n",
    "    end\n",
    "end"
   ]
  },
  {
   "cell_type": "markdown",
   "metadata": {},
   "source": [
    "### Score Kmers"
   ]
  },
  {
   "cell_type": "code",
   "execution_count": 107,
   "metadata": {},
   "outputs": [],
   "source": [
    "# Calculates the number of overlapping characters between the end of kmer_1 and the beginning of kmer_2\n",
    "\n",
    "function get_overlap(kmer_1, kmer_2)\n",
    "    k = length(kmer_1)\n",
    "    overlap = 0\n",
    "    i = k\n",
    "    while i > 0\n",
    "        if kmer_1[k-(i-1):k] == kmer_2[1:i]\n",
    "            overlap = i\n",
    "            break\n",
    "        end\n",
    "        i -= 1\n",
    "    end\n",
    "    return overlap\n",
    "end\n",
    ";            "
   ]
  },
  {
   "cell_type": "code",
   "execution_count": 116,
   "metadata": {},
   "outputs": [],
   "source": [
    "# Create an nxn matrix where n is the number of kmers\n",
    "# Each row and each column represent a kmer\n",
    "# Give each kmer pair a score based on overlap of kmer i (column i) and kmer j (row j) \n",
    "\n",
    "score_mat = zeros(length(kmer_array), length(kmer_array)) # Initialize empty matrix\n",
    "for i in 1:length(kmer_array)\n",
    "    for j in 1:length(kmer_array)\n",
    "        if i != j\n",
    "            score_mat[i,j] = -1*get_overlap(kmer_array[j], kmer_array[i])\n",
    "        end\n",
    "    end\n",
    "end"
   ]
  },
  {
   "cell_type": "code",
   "execution_count": 117,
   "metadata": {},
   "outputs": [
    {
     "data": {
      "text/plain": [
       "17×17 Array{Float64,2}:\n",
       "  0.0  -1.0  -1.0   0.0   0.0   0.0  …   0.0   0.0   0.0   0.0   0.0   0.0\n",
       " -3.0   0.0   0.0   0.0   0.0  -1.0      0.0   0.0  -1.0  -2.0   0.0   0.0\n",
       " -2.0  -3.0   0.0   0.0   0.0  -1.0      0.0   0.0  -1.0  -1.0   0.0   0.0\n",
       " -1.0  -2.0  -3.0   0.0   0.0   0.0      0.0   0.0   0.0   0.0   0.0   0.0\n",
       " -1.0  -2.0  -2.0  -3.0   0.0   0.0      0.0   0.0   0.0   0.0   0.0   0.0\n",
       " -1.0  -1.0  -1.0  -2.0  -3.0   0.0  …   0.0   0.0   0.0   0.0   0.0   0.0\n",
       "  0.0   0.0   0.0  -1.0  -2.0  -3.0      0.0   0.0   0.0   0.0   0.0   0.0\n",
       "  0.0   0.0   0.0  -1.0  -1.0  -2.0      0.0   0.0   0.0   0.0   0.0   0.0\n",
       "  0.0   0.0   0.0   0.0   0.0  -1.0      0.0   0.0  -1.0  -2.0   0.0   0.0\n",
       " -3.0   0.0   0.0   0.0   0.0  -1.0      0.0   0.0  -1.0  -2.0   0.0   0.0\n",
       " -2.0   0.0   0.0   0.0   0.0  -1.0  …   0.0   0.0  -1.0  -1.0   0.0   0.0\n",
       " -1.0  -1.0  -1.0   0.0   0.0   0.0      0.0   0.0   0.0   0.0   0.0   0.0\n",
       " -2.0   0.0   0.0   0.0   0.0  -1.0     -3.0   0.0  -1.0  -1.0   0.0   0.0\n",
       " -1.0  -1.0  -1.0   0.0   0.0   0.0     -2.0  -3.0   0.0   0.0   0.0   0.0\n",
       "  0.0   0.0   0.0   0.0   0.0   0.0     -1.0  -2.0  -3.0   0.0  -1.0  -2.0\n",
       "  0.0   0.0   0.0   0.0   0.0   0.0  …  -1.0  -1.0  -2.0  -3.0   0.0  -1.0\n",
       "  0.0   0.0   0.0   0.0   0.0  -1.0      0.0   0.0  -1.0  -2.0  -3.0   0.0"
      ]
     },
     "execution_count": 117,
     "metadata": {},
     "output_type": "execute_result"
    }
   ],
   "source": [
    "score_mat"
   ]
  }
 ],
 "metadata": {
  "kernelspec": {
   "display_name": "Julia 1.3.1",
   "language": "julia",
   "name": "julia-1.3"
  },
  "language_info": {
   "file_extension": ".jl",
   "mimetype": "application/julia",
   "name": "julia",
   "version": "1.3.1"
  }
 },
 "nbformat": 4,
 "nbformat_minor": 2
}
